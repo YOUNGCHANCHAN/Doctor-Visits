{
 "cells": [
  {
   "cell_type": "markdown",
   "metadata": {},
   "source": [
    "## DoctorVisits"
   ]
  },
  {
   "cell_type": "code",
   "execution_count": 1,
   "metadata": {},
   "outputs": [
    {
     "name": "stdout",
     "output_type": "stream",
     "text": [
      "\n",
      "The downloaded binary packages are in\n",
      "\t/var/folders/m4/mm26w_bd3lj2mk5jv1m251kh0000gn/T//RtmpshjnuU/downloaded_packages\n",
      "\n",
      "The downloaded binary packages are in\n",
      "\t/var/folders/m4/mm26w_bd3lj2mk5jv1m251kh0000gn/T//RtmpshjnuU/downloaded_packages\n",
      "\n",
      "The downloaded binary packages are in\n",
      "\t/var/folders/m4/mm26w_bd3lj2mk5jv1m251kh0000gn/T//RtmpshjnuU/downloaded_packages\n",
      "\n",
      "The downloaded binary packages are in\n",
      "\t/var/folders/m4/mm26w_bd3lj2mk5jv1m251kh0000gn/T//RtmpshjnuU/downloaded_packages\n"
     ]
    }
   ],
   "source": [
    "install.packages('AER')\n",
    "install.packages('pscl')\n",
    "install.packages('ggplot2')\n",
    "install.packages('faraway')"
   ]
  },
  {
   "cell_type": "code",
   "execution_count": 2,
   "metadata": {},
   "outputs": [
    {
     "name": "stderr",
     "output_type": "stream",
     "text": [
      "Loading required package: car\n",
      "\n",
      "Loading required package: carData\n",
      "\n",
      "Loading required package: lmtest\n",
      "\n",
      "Loading required package: zoo\n",
      "\n",
      "\n",
      "Attaching package: ‘zoo’\n",
      "\n",
      "\n",
      "The following objects are masked from ‘package:base’:\n",
      "\n",
      "    as.Date, as.Date.numeric\n",
      "\n",
      "\n",
      "Loading required package: sandwich\n",
      "\n",
      "Loading required package: survival\n",
      "\n",
      "\n",
      "Attaching package: ‘dplyr’\n",
      "\n",
      "\n",
      "The following object is masked from ‘package:car’:\n",
      "\n",
      "    recode\n",
      "\n",
      "\n",
      "The following objects are masked from ‘package:stats’:\n",
      "\n",
      "    filter, lag\n",
      "\n",
      "\n",
      "The following objects are masked from ‘package:base’:\n",
      "\n",
      "    intersect, setdiff, setequal, union\n",
      "\n",
      "\n",
      "\n",
      "Attaching package: ‘gridExtra’\n",
      "\n",
      "\n",
      "The following object is masked from ‘package:dplyr’:\n",
      "\n",
      "    combine\n",
      "\n",
      "\n",
      "── \u001b[1mAttaching packages\u001b[22m ─────────────────────────────────────── tidyverse 1.3.1 ──\n",
      "\n",
      "\u001b[32m✔\u001b[39m \u001b[34mggplot2\u001b[39m 3.3.6     \u001b[32m✔\u001b[39m \u001b[34mpurrr  \u001b[39m 0.3.4\n",
      "\u001b[32m✔\u001b[39m \u001b[34mtibble \u001b[39m 3.1.6     \u001b[32m✔\u001b[39m \u001b[34mstringr\u001b[39m 1.4.0\n",
      "\u001b[32m✔\u001b[39m \u001b[34mtidyr  \u001b[39m 1.1.4     \u001b[32m✔\u001b[39m \u001b[34mforcats\u001b[39m 0.5.1\n",
      "\u001b[32m✔\u001b[39m \u001b[34mreadr  \u001b[39m 2.1.2     \n",
      "\n",
      "── \u001b[1mConflicts\u001b[22m ────────────────────────────────────────── tidyverse_conflicts() ──\n",
      "\u001b[31m✖\u001b[39m \u001b[34mgridExtra\u001b[39m::\u001b[32mcombine()\u001b[39m masks \u001b[34mdplyr\u001b[39m::combine()\n",
      "\u001b[31m✖\u001b[39m \u001b[34mdplyr\u001b[39m::\u001b[32mfilter()\u001b[39m      masks \u001b[34mstats\u001b[39m::filter()\n",
      "\u001b[31m✖\u001b[39m \u001b[34mdplyr\u001b[39m::\u001b[32mlag()\u001b[39m         masks \u001b[34mstats\u001b[39m::lag()\n",
      "\u001b[31m✖\u001b[39m \u001b[34mdplyr\u001b[39m::\u001b[32mrecode()\u001b[39m      masks \u001b[34mcar\u001b[39m::recode()\n",
      "\u001b[31m✖\u001b[39m \u001b[34mpurrr\u001b[39m::\u001b[32msome()\u001b[39m        masks \u001b[34mcar\u001b[39m::some()\n",
      "\n",
      "Classes and Methods for R developed in the\n",
      "Political Science Computational Laboratory\n",
      "Department of Political Science\n",
      "Stanford University\n",
      "Simon Jackman\n",
      "hurdle and zeroinfl functions by Achim Zeileis\n",
      "\n",
      "Registered S3 method overwritten by 'GGally':\n",
      "  method from   \n",
      "  +.gg   ggplot2\n",
      "\n",
      "\n",
      "Attaching package: ‘faraway’\n",
      "\n",
      "\n",
      "The following object is masked from ‘package:GGally’:\n",
      "\n",
      "    happy\n",
      "\n",
      "\n",
      "The following objects are masked from ‘package:survival’:\n",
      "\n",
      "    rats, solder\n",
      "\n",
      "\n",
      "The following objects are masked from ‘package:car’:\n",
      "\n",
      "    logit, vif\n",
      "\n",
      "\n"
     ]
    }
   ],
   "source": [
    "library(AER)\n",
    "library(dplyr)\n",
    "library(gridExtra)\n",
    "library(tidyverse)\n",
    "library(pscl)\n",
    "library(knitr)\n",
    "library(ggplot2)\n",
    "library(GGally)\n",
    "library(faraway)"
   ]
  },
  {
   "cell_type": "code",
   "execution_count": 3,
   "metadata": {},
   "outputs": [
    {
     "data": {
      "text/html": [
       "<table class=\"dataframe\">\n",
       "<caption>A data.frame: 6 × 12</caption>\n",
       "<thead>\n",
       "\t<tr><th></th><th scope=col>visits</th><th scope=col>gender</th><th scope=col>age</th><th scope=col>income</th><th scope=col>illness</th><th scope=col>reduced</th><th scope=col>health</th><th scope=col>private</th><th scope=col>freepoor</th><th scope=col>freerepat</th><th scope=col>nchronic</th><th scope=col>lchronic</th></tr>\n",
       "\t<tr><th></th><th scope=col>&lt;dbl&gt;</th><th scope=col>&lt;fct&gt;</th><th scope=col>&lt;dbl&gt;</th><th scope=col>&lt;dbl&gt;</th><th scope=col>&lt;dbl&gt;</th><th scope=col>&lt;dbl&gt;</th><th scope=col>&lt;dbl&gt;</th><th scope=col>&lt;fct&gt;</th><th scope=col>&lt;fct&gt;</th><th scope=col>&lt;fct&gt;</th><th scope=col>&lt;fct&gt;</th><th scope=col>&lt;fct&gt;</th></tr>\n",
       "</thead>\n",
       "<tbody>\n",
       "\t<tr><th scope=row>1</th><td>1</td><td>female</td><td>0.19</td><td>0.55</td><td>1</td><td>4</td><td>1</td><td>yes</td><td>no</td><td>no</td><td>no </td><td>no</td></tr>\n",
       "\t<tr><th scope=row>2</th><td>1</td><td>female</td><td>0.19</td><td>0.45</td><td>1</td><td>2</td><td>1</td><td>yes</td><td>no</td><td>no</td><td>no </td><td>no</td></tr>\n",
       "\t<tr><th scope=row>3</th><td>1</td><td>male  </td><td>0.19</td><td>0.90</td><td>3</td><td>0</td><td>0</td><td>no </td><td>no</td><td>no</td><td>no </td><td>no</td></tr>\n",
       "\t<tr><th scope=row>4</th><td>1</td><td>male  </td><td>0.19</td><td>0.15</td><td>1</td><td>0</td><td>0</td><td>no </td><td>no</td><td>no</td><td>no </td><td>no</td></tr>\n",
       "\t<tr><th scope=row>5</th><td>1</td><td>male  </td><td>0.19</td><td>0.45</td><td>2</td><td>5</td><td>1</td><td>no </td><td>no</td><td>no</td><td>yes</td><td>no</td></tr>\n",
       "\t<tr><th scope=row>6</th><td>1</td><td>female</td><td>0.19</td><td>0.35</td><td>5</td><td>1</td><td>9</td><td>no </td><td>no</td><td>no</td><td>yes</td><td>no</td></tr>\n",
       "</tbody>\n",
       "</table>\n"
      ],
      "text/latex": [
       "A data.frame: 6 × 12\n",
       "\\begin{tabular}{r|llllllllllll}\n",
       "  & visits & gender & age & income & illness & reduced & health & private & freepoor & freerepat & nchronic & lchronic\\\\\n",
       "  & <dbl> & <fct> & <dbl> & <dbl> & <dbl> & <dbl> & <dbl> & <fct> & <fct> & <fct> & <fct> & <fct>\\\\\n",
       "\\hline\n",
       "\t1 & 1 & female & 0.19 & 0.55 & 1 & 4 & 1 & yes & no & no & no  & no\\\\\n",
       "\t2 & 1 & female & 0.19 & 0.45 & 1 & 2 & 1 & yes & no & no & no  & no\\\\\n",
       "\t3 & 1 & male   & 0.19 & 0.90 & 3 & 0 & 0 & no  & no & no & no  & no\\\\\n",
       "\t4 & 1 & male   & 0.19 & 0.15 & 1 & 0 & 0 & no  & no & no & no  & no\\\\\n",
       "\t5 & 1 & male   & 0.19 & 0.45 & 2 & 5 & 1 & no  & no & no & yes & no\\\\\n",
       "\t6 & 1 & female & 0.19 & 0.35 & 5 & 1 & 9 & no  & no & no & yes & no\\\\\n",
       "\\end{tabular}\n"
      ],
      "text/markdown": [
       "\n",
       "A data.frame: 6 × 12\n",
       "\n",
       "| <!--/--> | visits &lt;dbl&gt; | gender &lt;fct&gt; | age &lt;dbl&gt; | income &lt;dbl&gt; | illness &lt;dbl&gt; | reduced &lt;dbl&gt; | health &lt;dbl&gt; | private &lt;fct&gt; | freepoor &lt;fct&gt; | freerepat &lt;fct&gt; | nchronic &lt;fct&gt; | lchronic &lt;fct&gt; |\n",
       "|---|---|---|---|---|---|---|---|---|---|---|---|---|\n",
       "| 1 | 1 | female | 0.19 | 0.55 | 1 | 4 | 1 | yes | no | no | no  | no |\n",
       "| 2 | 1 | female | 0.19 | 0.45 | 1 | 2 | 1 | yes | no | no | no  | no |\n",
       "| 3 | 1 | male   | 0.19 | 0.90 | 3 | 0 | 0 | no  | no | no | no  | no |\n",
       "| 4 | 1 | male   | 0.19 | 0.15 | 1 | 0 | 0 | no  | no | no | no  | no |\n",
       "| 5 | 1 | male   | 0.19 | 0.45 | 2 | 5 | 1 | no  | no | no | yes | no |\n",
       "| 6 | 1 | female | 0.19 | 0.35 | 5 | 1 | 9 | no  | no | no | yes | no |\n",
       "\n"
      ],
      "text/plain": [
       "  visits gender age  income illness reduced health private freepoor freerepat\n",
       "1 1      female 0.19 0.55   1       4       1      yes     no       no       \n",
       "2 1      female 0.19 0.45   1       2       1      yes     no       no       \n",
       "3 1      male   0.19 0.90   3       0       0      no      no       no       \n",
       "4 1      male   0.19 0.15   1       0       0      no      no       no       \n",
       "5 1      male   0.19 0.45   2       5       1      no      no       no       \n",
       "6 1      female 0.19 0.35   5       1       9      no      no       no       \n",
       "  nchronic lchronic\n",
       "1 no       no      \n",
       "2 no       no      \n",
       "3 no       no      \n",
       "4 no       no      \n",
       "5 yes      no      \n",
       "6 yes      no      "
      ]
     },
     "metadata": {},
     "output_type": "display_data"
    },
    {
     "data": {
      "text/html": [
       "<style>\n",
       ".list-inline {list-style: none; margin:0; padding: 0}\n",
       ".list-inline>li {display: inline-block}\n",
       ".list-inline>li:not(:last-child)::after {content: \"\\00b7\"; padding: 0 .5ex}\n",
       "</style>\n",
       "<ol class=list-inline><li>5190</li><li>12</li></ol>\n"
      ],
      "text/latex": [
       "\\begin{enumerate*}\n",
       "\\item 5190\n",
       "\\item 12\n",
       "\\end{enumerate*}\n"
      ],
      "text/markdown": [
       "1. 5190\n",
       "2. 12\n",
       "\n",
       "\n"
      ],
      "text/plain": [
       "[1] 5190   12"
      ]
     },
     "metadata": {},
     "output_type": "display_data"
    }
   ],
   "source": [
    "data('DoctorVisits')\n",
    "head(DoctorVisits)\n",
    "dim(DoctorVisits)"
   ]
  },
  {
   "cell_type": "markdown",
   "metadata": {},
   "source": [
    "- ####  변수설명\n",
    " - `visits`: 지난 2주간 의사방문 수 \n",
    " - `gender` : 성별        \n",
    " - `age` : 나이  \n",
    " - `income` : 연소득 \n",
    " - `illness` : 지난 2주간 질병걸린 사람의 수 \n",
    " - `reduced` : 질병이나 부상때문에 지난 2주간 활동이 줄어든 날  \n",
    " - `health` : 건강 점수 \n",
    " - `private` : 개인건강보험을 들었는지 \n",
    " - `freepoor` : 저소득으로 인해 정부의 무료건강보험이 가입되었는지 \n",
    " - `freerepat` : 고령으로 인해 정부의 무료건강보험이 가입되었는지  \n",
    " - `nchronic` : 활동을 제한하지 않는 만성질병이 있는지 \n",
    " - `lchronic` : 활동을 제한하는 만성질병이 있는지 \n",
    " \n",
    " \n",
    "- 범주형 변수 : `gender`,`private`,`freepoor`,`freerepat`,`nchronic`,`lchronic`\n",
    "- 수치형 변수 : `visits`,`age`,`income`,`illness`,`reduced`,`health`"
   ]
  },
  {
   "cell_type": "code",
   "execution_count": 6,
   "metadata": {},
   "outputs": [
    {
     "data": {
      "text/plain": [
       "     visits          gender          age             income      \n",
       " Min.   :0.0000   male  :2488   Min.   :0.1900   Min.   :0.0000  \n",
       " 1st Qu.:0.0000   female:2702   1st Qu.:0.2200   1st Qu.:0.2500  \n",
       " Median :0.0000                 Median :0.3200   Median :0.5500  \n",
       " Mean   :0.3017                 Mean   :0.4064   Mean   :0.5832  \n",
       " 3rd Qu.:0.0000                 3rd Qu.:0.6200   3rd Qu.:0.9000  \n",
       " Max.   :9.0000                 Max.   :0.7200   Max.   :1.5000  \n",
       "    illness         reduced            health       private    freepoor  \n",
       " Min.   :0.000   Min.   : 0.0000   Min.   : 0.000   no :2892   no :4968  \n",
       " 1st Qu.:0.000   1st Qu.: 0.0000   1st Qu.: 0.000   yes:2298   yes: 222  \n",
       " Median :1.000   Median : 0.0000   Median : 0.000                        \n",
       " Mean   :1.432   Mean   : 0.8619   Mean   : 1.218                        \n",
       " 3rd Qu.:2.000   3rd Qu.: 0.0000   3rd Qu.: 2.000                        \n",
       " Max.   :5.000   Max.   :14.0000   Max.   :12.000                        \n",
       " freerepat  nchronic   lchronic  \n",
       " no :4099   no :3098   no :4585  \n",
       " yes:1091   yes:2092   yes: 605  \n",
       "                                 \n",
       "                                 \n",
       "                                 \n",
       "                                 "
      ]
     },
     "metadata": {},
     "output_type": "display_data"
    }
   ],
   "source": [
    "summary(DoctorVisits)"
   ]
  },
  {
   "cell_type": "markdown",
   "metadata": {},
   "source": [
    "- 방문수는 최대가 9인 반면 평균이 0.3 중위값이 0 이기 때문에 0의값이 상당히 많음을 추론해 볼 수 있다.\n",
    "- 성별은 여자가 약 200명정도 더 많다.\n",
    "- 나이는 최소가 19 최대 72살이며 평균 40살이다"
   ]
  },
  {
   "cell_type": "code",
   "execution_count": 7,
   "metadata": {},
   "outputs": [
    {
     "data": {
      "text/html": [
       "<style>\n",
       ".dl-inline {width: auto; margin:0; padding: 0}\n",
       ".dl-inline>dt, .dl-inline>dd {float: none; width: auto; display: inline-block}\n",
       ".dl-inline>dt::after {content: \":\\0020\"; padding-right: .5ex}\n",
       ".dl-inline>dt:not(:first-of-type) {padding-left: .5ex}\n",
       "</style><dl class=dl-inline><dt>visits</dt><dd>0</dd><dt>gender</dt><dd>0</dd><dt>age</dt><dd>0</dd><dt>income</dt><dd>0</dd><dt>illness</dt><dd>0</dd><dt>reduced</dt><dd>0</dd><dt>health</dt><dd>0</dd><dt>private</dt><dd>0</dd><dt>freepoor</dt><dd>0</dd><dt>freerepat</dt><dd>0</dd><dt>nchronic</dt><dd>0</dd><dt>lchronic</dt><dd>0</dd></dl>\n"
      ],
      "text/latex": [
       "\\begin{description*}\n",
       "\\item[visits] 0\n",
       "\\item[gender] 0\n",
       "\\item[age] 0\n",
       "\\item[income] 0\n",
       "\\item[illness] 0\n",
       "\\item[reduced] 0\n",
       "\\item[health] 0\n",
       "\\item[private] 0\n",
       "\\item[freepoor] 0\n",
       "\\item[freerepat] 0\n",
       "\\item[nchronic] 0\n",
       "\\item[lchronic] 0\n",
       "\\end{description*}\n"
      ],
      "text/markdown": [
       "visits\n",
       ":   0gender\n",
       ":   0age\n",
       ":   0income\n",
       ":   0illness\n",
       ":   0reduced\n",
       ":   0health\n",
       ":   0private\n",
       ":   0freepoor\n",
       ":   0freerepat\n",
       ":   0nchronic\n",
       ":   0lchronic\n",
       ":   0\n",
       "\n"
      ],
      "text/plain": [
       "   visits    gender       age    income   illness   reduced    health   private \n",
       "        0         0         0         0         0         0         0         0 \n",
       " freepoor freerepat  nchronic  lchronic \n",
       "        0         0         0         0 "
      ]
     },
     "metadata": {},
     "output_type": "display_data"
    }
   ],
   "source": [
    "colSums(is.na(DoctorVisits)) #결측값 없음"
   ]
  },
  {
   "cell_type": "markdown",
   "metadata": {},
   "source": [
    "#### `-` 반응변수 visits 탐색"
   ]
  },
  {
   "cell_type": "code",
   "execution_count": 8,
   "metadata": {},
   "outputs": [
    {
     "data": {
      "text/html": [
       "<table class=\"dataframe\">\n",
       "<caption>A tibble: 10 × 3</caption>\n",
       "<thead>\n",
       "\t<tr><th scope=col>visits</th><th scope=col>n</th><th scope=col>prop</th></tr>\n",
       "\t<tr><th scope=col>&lt;dbl&gt;</th><th scope=col>&lt;int&gt;</th><th scope=col>&lt;dbl&gt;</th></tr>\n",
       "</thead>\n",
       "<tbody>\n",
       "\t<tr><td>0</td><td>4141</td><td>0.798</td></tr>\n",
       "\t<tr><td>1</td><td> 782</td><td>0.151</td></tr>\n",
       "\t<tr><td>2</td><td> 174</td><td>0.034</td></tr>\n",
       "\t<tr><td>3</td><td>  30</td><td>0.006</td></tr>\n",
       "\t<tr><td>4</td><td>  24</td><td>0.005</td></tr>\n",
       "\t<tr><td>5</td><td>   9</td><td>0.002</td></tr>\n",
       "\t<tr><td>6</td><td>  12</td><td>0.002</td></tr>\n",
       "\t<tr><td>7</td><td>  12</td><td>0.002</td></tr>\n",
       "\t<tr><td>8</td><td>   5</td><td>0.001</td></tr>\n",
       "\t<tr><td>9</td><td>   1</td><td>0.000</td></tr>\n",
       "</tbody>\n",
       "</table>\n"
      ],
      "text/latex": [
       "A tibble: 10 × 3\n",
       "\\begin{tabular}{lll}\n",
       " visits & n & prop\\\\\n",
       " <dbl> & <int> & <dbl>\\\\\n",
       "\\hline\n",
       "\t 0 & 4141 & 0.798\\\\\n",
       "\t 1 &  782 & 0.151\\\\\n",
       "\t 2 &  174 & 0.034\\\\\n",
       "\t 3 &   30 & 0.006\\\\\n",
       "\t 4 &   24 & 0.005\\\\\n",
       "\t 5 &    9 & 0.002\\\\\n",
       "\t 6 &   12 & 0.002\\\\\n",
       "\t 7 &   12 & 0.002\\\\\n",
       "\t 8 &    5 & 0.001\\\\\n",
       "\t 9 &    1 & 0.000\\\\\n",
       "\\end{tabular}\n"
      ],
      "text/markdown": [
       "\n",
       "A tibble: 10 × 3\n",
       "\n",
       "| visits &lt;dbl&gt; | n &lt;int&gt; | prop &lt;dbl&gt; |\n",
       "|---|---|---|\n",
       "| 0 | 4141 | 0.798 |\n",
       "| 1 |  782 | 0.151 |\n",
       "| 2 |  174 | 0.034 |\n",
       "| 3 |   30 | 0.006 |\n",
       "| 4 |   24 | 0.005 |\n",
       "| 5 |    9 | 0.002 |\n",
       "| 6 |   12 | 0.002 |\n",
       "| 7 |   12 | 0.002 |\n",
       "| 8 |    5 | 0.001 |\n",
       "| 9 |    1 | 0.000 |\n",
       "\n"
      ],
      "text/plain": [
       "   visits n    prop \n",
       "1  0      4141 0.798\n",
       "2  1       782 0.151\n",
       "3  2       174 0.034\n",
       "4  3        30 0.006\n",
       "5  4        24 0.005\n",
       "6  5         9 0.002\n",
       "7  6        12 0.002\n",
       "8  7        12 0.002\n",
       "9  8         5 0.001\n",
       "10 9         1 0.000"
      ]
     },
     "metadata": {},
     "output_type": "display_data"
    }
   ],
   "source": [
    "obs.table = tally(group_by(DoctorVisits,visits)) %>%\n",
    "                mutate(prop=round(n/sum(n),3))\n",
    "obs.table"
   ]
  },
  {
   "cell_type": "code",
   "execution_count": 9,
   "metadata": {},
   "outputs": [
    {
     "data": {
      "text/html": [
       "<table class=\"dataframe\">\n",
       "<caption>A data.frame: 1 × 4</caption>\n",
       "<thead>\n",
       "\t<tr><th scope=col>mean</th><th scope=col>var</th><th scope=col>max</th><th scope=col>var/mean</th></tr>\n",
       "\t<tr><th scope=col>&lt;dbl&gt;</th><th scope=col>&lt;dbl&gt;</th><th scope=col>&lt;dbl&gt;</th><th scope=col>&lt;dbl&gt;</th></tr>\n",
       "</thead>\n",
       "<tbody>\n",
       "\t<tr><td>0.3017341</td><td>0.6370176</td><td>9</td><td>2.111189</td></tr>\n",
       "</tbody>\n",
       "</table>\n"
      ],
      "text/latex": [
       "A data.frame: 1 × 4\n",
       "\\begin{tabular}{llll}\n",
       " mean & var & max & var/mean\\\\\n",
       " <dbl> & <dbl> & <dbl> & <dbl>\\\\\n",
       "\\hline\n",
       "\t 0.3017341 & 0.6370176 & 9 & 2.111189\\\\\n",
       "\\end{tabular}\n"
      ],
      "text/markdown": [
       "\n",
       "A data.frame: 1 × 4\n",
       "\n",
       "| mean &lt;dbl&gt; | var &lt;dbl&gt; | max &lt;dbl&gt; | var/mean &lt;dbl&gt; |\n",
       "|---|---|---|---|\n",
       "| 0.3017341 | 0.6370176 | 9 | 2.111189 |\n",
       "\n"
      ],
      "text/plain": [
       "  mean      var       max var/mean\n",
       "1 0.3017341 0.6370176 9   2.111189"
      ]
     },
     "metadata": {},
     "output_type": "display_data"
    },
    {
     "data": {
      "image/png": "[encoded data removed]",
      "text/plain": [
       "Plot with title “Histogram of DoctorVisits$visits”"
      ]
     },
     "metadata": {
      "image/png": {
       "height": 420,
       "width": 420
      }
     },
     "output_type": "display_data"
    }
   ],
   "source": [
    "hist(DoctorVisits$visits)\n",
    "\n",
    "mnmx  <- DoctorVisits %>% summarise(mean = mean(visits),var = var(visits), max = max(visits), var/mean)\n",
    "mnmx"
   ]
  },
  {
   "cell_type": "markdown",
   "metadata": {},
   "source": [
    "- 평균 0.3 최대치가 9이다.\n",
    "- 방문하지 않은 수가 전체의 80%가 된다.\n",
    "- 한번 방문은 782명으로 15%, 두번 방문은 174명으로 3.4%이다.\n",
    "\n",
    "$\\rightarrow$ 대다수의 사람은 2주동안 병원에 안가는 경우가 굉장히 많다. "
   ]
  },
  {
   "cell_type": "markdown",
   "metadata": {},
   "source": [
    "- 범주형 변수 : `gender`,`private`,`freepoor`,`freerepat`,`nchronic`,`lchronic`"
   ]
  },
  {
   "cell_type": "code",
   "execution_count": 10,
   "metadata": {},
   "outputs": [
    {
     "data": {
      "text/html": [
       "<table class=\"dataframe\">\n",
       "<caption>A tibble: 2 × 5</caption>\n",
       "<thead>\n",
       "\t<tr><th scope=col>gender</th><th scope=col>mean</th><th scope=col>var</th><th scope=col>n</th><th scope=col>var/mean</th></tr>\n",
       "\t<tr><th scope=col>&lt;fct&gt;</th><th scope=col>&lt;dbl&gt;</th><th scope=col>&lt;dbl&gt;</th><th scope=col>&lt;int&gt;</th><th scope=col>&lt;dbl&gt;</th></tr>\n",
       "</thead>\n",
       "<tbody>\n",
       "\t<tr><td>male  </td><td>0.2363344</td><td>0.5215261</td><td>2488</td><td>2.206729</td></tr>\n",
       "\t<tr><td>female</td><td>0.3619541</td><td>0.7360270</td><td>2702</td><td>2.033482</td></tr>\n",
       "</tbody>\n",
       "</table>\n"
      ],
      "text/latex": [
       "A tibble: 2 × 5\n",
       "\\begin{tabular}{lllll}\n",
       " gender & mean & var & n & var/mean\\\\\n",
       " <fct> & <dbl> & <dbl> & <int> & <dbl>\\\\\n",
       "\\hline\n",
       "\t male   & 0.2363344 & 0.5215261 & 2488 & 2.206729\\\\\n",
       "\t female & 0.3619541 & 0.7360270 & 2702 & 2.033482\\\\\n",
       "\\end{tabular}\n"
      ],
      "text/markdown": [
       "\n",
       "A tibble: 2 × 5\n",
       "\n",
       "| gender &lt;fct&gt; | mean &lt;dbl&gt; | var &lt;dbl&gt; | n &lt;int&gt; | var/mean &lt;dbl&gt; |\n",
       "|---|---|---|---|---|\n",
       "| male   | 0.2363344 | 0.5215261 | 2488 | 2.206729 |\n",
       "| female | 0.3619541 | 0.7360270 | 2702 | 2.033482 |\n",
       "\n"
      ],
      "text/plain": [
       "  gender mean      var       n    var/mean\n",
       "1 male   0.2363344 0.5215261 2488 2.206729\n",
       "2 female 0.3619541 0.7360270 2702 2.033482"
      ]
     },
     "metadata": {},
     "output_type": "display_data"
    },
    {
     "data": {
      "text/html": [
       "<table class=\"dataframe\">\n",
       "<caption>A tibble: 2 × 5</caption>\n",
       "<thead>\n",
       "\t<tr><th scope=col>private</th><th scope=col>mean</th><th scope=col>var</th><th scope=col>n</th><th scope=col>var/mean</th></tr>\n",
       "\t<tr><th scope=col>&lt;fct&gt;</th><th scope=col>&lt;dbl&gt;</th><th scope=col>&lt;dbl&gt;</th><th scope=col>&lt;int&gt;</th><th scope=col>&lt;dbl&gt;</th></tr>\n",
       "</thead>\n",
       "<tbody>\n",
       "\t<tr><td>no </td><td>0.3073997</td><td>0.6695682</td><td>2892</td><td>2.178168</td></tr>\n",
       "\t<tr><td>yes</td><td>0.2946040</td><td>0.5962356</td><td>2298</td><td>2.023854</td></tr>\n",
       "</tbody>\n",
       "</table>\n"
      ],
      "text/latex": [
       "A tibble: 2 × 5\n",
       "\\begin{tabular}{lllll}\n",
       " private & mean & var & n & var/mean\\\\\n",
       " <fct> & <dbl> & <dbl> & <int> & <dbl>\\\\\n",
       "\\hline\n",
       "\t no  & 0.3073997 & 0.6695682 & 2892 & 2.178168\\\\\n",
       "\t yes & 0.2946040 & 0.5962356 & 2298 & 2.023854\\\\\n",
       "\\end{tabular}\n"
      ],
      "text/markdown": [
       "\n",
       "A tibble: 2 × 5\n",
       "\n",
       "| private &lt;fct&gt; | mean &lt;dbl&gt; | var &lt;dbl&gt; | n &lt;int&gt; | var/mean &lt;dbl&gt; |\n",
       "|---|---|---|---|---|\n",
       "| no  | 0.3073997 | 0.6695682 | 2892 | 2.178168 |\n",
       "| yes | 0.2946040 | 0.5962356 | 2298 | 2.023854 |\n",
       "\n"
      ],
      "text/plain": [
       "  private mean      var       n    var/mean\n",
       "1 no      0.3073997 0.6695682 2892 2.178168\n",
       "2 yes     0.2946040 0.5962356 2298 2.023854"
      ]
     },
     "metadata": {},
     "output_type": "display_data"
    },
    {
     "data": {
      "text/html": [
       "<table class=\"dataframe\">\n",
       "<caption>A tibble: 2 × 5</caption>\n",
       "<thead>\n",
       "\t<tr><th scope=col>freepoor</th><th scope=col>mean</th><th scope=col>var</th><th scope=col>n</th><th scope=col>var/mean</th></tr>\n",
       "\t<tr><th scope=col>&lt;fct&gt;</th><th scope=col>&lt;dbl&gt;</th><th scope=col>&lt;dbl&gt;</th><th scope=col>&lt;int&gt;</th><th scope=col>&lt;dbl&gt;</th></tr>\n",
       "</thead>\n",
       "<tbody>\n",
       "\t<tr><td>no </td><td>0.3081723</td><td>0.6428807</td><td>4968</td><td>2.086108</td></tr>\n",
       "\t<tr><td>yes</td><td>0.1576577</td><td>0.4863438</td><td> 222</td><td>3.084809</td></tr>\n",
       "</tbody>\n",
       "</table>\n"
      ],
      "text/latex": [
       "A tibble: 2 × 5\n",
       "\\begin{tabular}{lllll}\n",
       " freepoor & mean & var & n & var/mean\\\\\n",
       " <fct> & <dbl> & <dbl> & <int> & <dbl>\\\\\n",
       "\\hline\n",
       "\t no  & 0.3081723 & 0.6428807 & 4968 & 2.086108\\\\\n",
       "\t yes & 0.1576577 & 0.4863438 &  222 & 3.084809\\\\\n",
       "\\end{tabular}\n"
      ],
      "text/markdown": [
       "\n",
       "A tibble: 2 × 5\n",
       "\n",
       "| freepoor &lt;fct&gt; | mean &lt;dbl&gt; | var &lt;dbl&gt; | n &lt;int&gt; | var/mean &lt;dbl&gt; |\n",
       "|---|---|---|---|---|\n",
       "| no  | 0.3081723 | 0.6428807 | 4968 | 2.086108 |\n",
       "| yes | 0.1576577 | 0.4863438 |  222 | 3.084809 |\n",
       "\n"
      ],
      "text/plain": [
       "  freepoor mean      var       n    var/mean\n",
       "1 no       0.3081723 0.6428807 4968 2.086108\n",
       "2 yes      0.1576577 0.4863438  222 3.084809"
      ]
     },
     "metadata": {},
     "output_type": "display_data"
    },
    {
     "data": {
      "text/html": [
       "<table class=\"dataframe\">\n",
       "<caption>A tibble: 2 × 5</caption>\n",
       "<thead>\n",
       "\t<tr><th scope=col>nchronic</th><th scope=col>mean</th><th scope=col>var</th><th scope=col>n</th><th scope=col>var/mean</th></tr>\n",
       "\t<tr><th scope=col>&lt;fct&gt;</th><th scope=col>&lt;dbl&gt;</th><th scope=col>&lt;dbl&gt;</th><th scope=col>&lt;int&gt;</th><th scope=col>&lt;dbl&gt;</th></tr>\n",
       "</thead>\n",
       "<tbody>\n",
       "\t<tr><td>no </td><td>0.2721110</td><td>0.6153085</td><td>3098</td><td>2.261240</td></tr>\n",
       "\t<tr><td>yes</td><td>0.3456023</td><td>0.6662504</td><td>2092</td><td>1.927795</td></tr>\n",
       "</tbody>\n",
       "</table>\n"
      ],
      "text/latex": [
       "A tibble: 2 × 5\n",
       "\\begin{tabular}{lllll}\n",
       " nchronic & mean & var & n & var/mean\\\\\n",
       " <fct> & <dbl> & <dbl> & <int> & <dbl>\\\\\n",
       "\\hline\n",
       "\t no  & 0.2721110 & 0.6153085 & 3098 & 2.261240\\\\\n",
       "\t yes & 0.3456023 & 0.6662504 & 2092 & 1.927795\\\\\n",
       "\\end{tabular}\n"
      ],
      "text/markdown": [
       "\n",
       "A tibble: 2 × 5\n",
       "\n",
       "| nchronic &lt;fct&gt; | mean &lt;dbl&gt; | var &lt;dbl&gt; | n &lt;int&gt; | var/mean &lt;dbl&gt; |\n",
       "|---|---|---|---|---|\n",
       "| no  | 0.2721110 | 0.6153085 | 3098 | 2.261240 |\n",
       "| yes | 0.3456023 | 0.6662504 | 2092 | 1.927795 |\n",
       "\n"
      ],
      "text/plain": [
       "  nchronic mean      var       n    var/mean\n",
       "1 no       0.2721110 0.6153085 3098 2.261240\n",
       "2 yes      0.3456023 0.6662504 2092 1.927795"
      ]
     },
     "metadata": {},
     "output_type": "display_data"
    },
    {
     "data": {
      "text/html": [
       "<table class=\"dataframe\">\n",
       "<caption>A tibble: 2 × 5</caption>\n",
       "<thead>\n",
       "\t<tr><th scope=col>lchronic</th><th scope=col>mean</th><th scope=col>var</th><th scope=col>n</th><th scope=col>var/mean</th></tr>\n",
       "\t<tr><th scope=col>&lt;fct&gt;</th><th scope=col>&lt;dbl&gt;</th><th scope=col>&lt;dbl&gt;</th><th scope=col>&lt;int&gt;</th><th scope=col>&lt;dbl&gt;</th></tr>\n",
       "</thead>\n",
       "<tbody>\n",
       "\t<tr><td>no </td><td>0.2619411</td><td>0.5192864</td><td>4585</td><td>1.982455</td></tr>\n",
       "\t<tr><td>yes</td><td>0.6033058</td><td>1.4284659</td><td> 605</td><td>2.367731</td></tr>\n",
       "</tbody>\n",
       "</table>\n"
      ],
      "text/latex": [
       "A tibble: 2 × 5\n",
       "\\begin{tabular}{lllll}\n",
       " lchronic & mean & var & n & var/mean\\\\\n",
       " <fct> & <dbl> & <dbl> & <int> & <dbl>\\\\\n",
       "\\hline\n",
       "\t no  & 0.2619411 & 0.5192864 & 4585 & 1.982455\\\\\n",
       "\t yes & 0.6033058 & 1.4284659 &  605 & 2.367731\\\\\n",
       "\\end{tabular}\n"
      ],
      "text/markdown": [
       "\n",
       "A tibble: 2 × 5\n",
       "\n",
       "| lchronic &lt;fct&gt; | mean &lt;dbl&gt; | var &lt;dbl&gt; | n &lt;int&gt; | var/mean &lt;dbl&gt; |\n",
       "|---|---|---|---|---|\n",
       "| no  | 0.2619411 | 0.5192864 | 4585 | 1.982455 |\n",
       "| yes | 0.6033058 | 1.4284659 |  605 | 2.367731 |\n",
       "\n"
      ],
      "text/plain": [
       "  lchronic mean      var       n    var/mean\n",
       "1 no       0.2619411 0.5192864 4585 1.982455\n",
       "2 yes      0.6033058 1.4284659  605 2.367731"
      ]
     },
     "metadata": {},
     "output_type": "display_data"
    }
   ],
   "source": [
    "DoctorVisits %>% group_by(gender)  %>% \n",
    "  summarise(mean=mean(visits), var=var(visits), n=n() ,var/mean, )\n",
    "        \n",
    "DoctorVisits  %>% group_by(private)  %>% \n",
    "  summarise(mean=mean(visits), var=var(visits), n=n(), var/mean)\n",
    "\n",
    "DoctorVisits  %>% group_by(freepoor)  %>% \n",
    "  summarise(mean=mean(visits), var=var(visits), n=n(), var/mean)\n",
    "\n",
    "DoctorVisits  %>% group_by(nchronic)  %>% \n",
    "  summarise(mean=mean(visits), var=var(visits), n=n(), var/mean)\n",
    "\n",
    "DoctorVisits  %>% group_by(lchronic)  %>% \n",
    "  summarise(mean=mean(visits), var=var(visits), n=n(), var/mean)"
   ]
  },
  {
   "cell_type": "markdown",
   "metadata": {},
   "source": [
    "#### - 수치형 변수 탐색\n",
    "\n",
    "- 수치형 변수 : `visits`,`age`,`income`,`illness`,`reduced`,`health`"
   ]
  },
  {
   "cell_type": "code",
   "execution_count": 11,
   "metadata": {},
   "outputs": [
    {
     "data": {
      "image/png": "[encoded data removed]",
      "text/plain": [
       "Plot with title “health”"
      ]
     },
     "metadata": {
      "image/png": {
       "height": 420,
       "width": 420
      }
     },
     "output_type": "display_data"
    }
   ],
   "source": [
    "par(mfrow = c(2,3))\n",
    "hist(DoctorVisits$visits,main = 'visits')\n",
    "hist(DoctorVisits$age, main = 'age')\n",
    "hist(DoctorVisits$income,main ='income')\n",
    "hist(DoctorVisits$illness,main ='illness')\n",
    "hist(DoctorVisits$reduced,main ='reduced')\n",
    "hist(DoctorVisits$health,main = 'health')"
   ]
  },
  {
   "cell_type": "markdown",
   "metadata": {},
   "source": [
    "- 연령대는 유년,청소년층과 고령층이 많으며 중장년층은 적은 모습을 보인다.\n",
    "- 소득은 0.3정도가 제일 많으며 1.0까지 골고루 분포해 있다.\n",
    "- 질병에 걸린 사람은 거의 없거나 한명정도가 가장 많음을 보여준다.\n",
    "- reduced 변수에 0 이 굉장히 많은 것을 보아 일상생활에 영향을 미친 사람이 거의 없음을 보여준다. 다만 14에 있는 사람은 2주 내내 \n",
    "일상생활을 못한 것을 보아 입원했을 가능성이 있다.\n",
    "- 건강지수도 0에서 굉장히 높으며 그외엔 굉장히 낮은 모습을 보인다."
   ]
  },
  {
   "cell_type": "code",
   "execution_count": 17,
   "metadata": {},
   "outputs": [
    {
     "name": "stdout",
     "output_type": "stream",
     "text": [
      "Start:  AIC=6361.51\n",
      "factor(visits) ~ gender + age + income + illness + reduced + \n",
      "    health + private + freepoor + freerepat + nchronic + lchronic\n",
      "\n",
      "            Df    AIC\n",
      "- income     1 6360.5\n",
      "- nchronic   1 6361.2\n",
      "<none>         6361.5\n",
      "- age        1 6362.9\n",
      "- lchronic   1 6363.1\n",
      "- freerepat  1 6366.3\n",
      "- private    1 6367.3\n",
      "- freepoor   1 6368.1\n",
      "- gender     1 6368.5\n",
      "- health     1 6372.7\n",
      "- illness    1 6450.7\n",
      "- reduced    1 6616.7\n",
      "\n",
      "Step:  AIC=6360.48\n",
      "factor(visits) ~ gender + age + illness + reduced + health + \n",
      "    private + freepoor + freerepat + nchronic + lchronic\n",
      "\n",
      "            Df    AIC\n",
      "- nchronic   1 6360.1\n",
      "<none>         6360.5\n",
      "- lchronic   1 6362.0\n",
      "- age        1 6362.3\n",
      "- private    1 6365.8\n",
      "- freepoor   1 6366.3\n",
      "- freerepat  1 6366.5\n",
      "- gender     1 6369.2\n",
      "- health     1 6371.8\n",
      "- illness    1 6450.9\n",
      "- reduced    1 6615.0\n",
      "\n",
      "Step:  AIC=6360.07\n",
      "factor(visits) ~ gender + age + illness + reduced + health + \n",
      "    private + freepoor + freerepat + lchronic\n",
      "\n",
      "            Df    AIC\n",
      "<none>         6360.1\n",
      "- lchronic   1 6360.2\n",
      "- age        1 6363.4\n",
      "- private    1 6365.8\n",
      "- freepoor   1 6365.8\n",
      "- freerepat  1 6366.3\n",
      "- gender     1 6369.4\n",
      "- health     1 6371.3\n",
      "- illness    1 6464.7\n",
      "- reduced    1 6614.7\n",
      "Start:  AIC=6361.51\n",
      "factor(visits) ~ gender + age + income + illness + reduced + \n",
      "    health + private + freepoor + freerepat + nchronic + lchronic\n",
      "\n",
      "            Df    AIC\n",
      "- income     1 6360.5\n",
      "- nchronic   1 6361.2\n",
      "<none>         6361.5\n",
      "- age        1 6362.9\n",
      "- lchronic   1 6363.1\n",
      "- freerepat  1 6366.3\n",
      "- private    1 6367.3\n",
      "- freepoor   1 6368.1\n",
      "- gender     1 6368.5\n",
      "- health     1 6372.7\n",
      "- illness    1 6450.7\n",
      "- reduced    1 6616.7\n",
      "\n",
      "Step:  AIC=6360.48\n",
      "factor(visits) ~ gender + age + illness + reduced + health + \n",
      "    private + freepoor + freerepat + nchronic + lchronic\n",
      "\n",
      "            Df    AIC\n",
      "- nchronic   1 6360.1\n",
      "<none>         6360.5\n",
      "- lchronic   1 6362.0\n",
      "- age        1 6362.3\n",
      "- private    1 6365.8\n",
      "- freepoor   1 6366.3\n",
      "- freerepat  1 6366.5\n",
      "- gender     1 6369.2\n",
      "- health     1 6371.8\n",
      "- illness    1 6450.9\n",
      "- reduced    1 6615.0\n",
      "\n",
      "Step:  AIC=6360.07\n",
      "factor(visits) ~ gender + age + illness + reduced + health + \n",
      "    private + freepoor + freerepat + lchronic\n",
      "\n",
      "            Df    AIC\n",
      "<none>         6360.1\n",
      "- lchronic   1 6360.2\n",
      "- age        1 6363.4\n",
      "- private    1 6365.8\n",
      "- freepoor   1 6365.8\n",
      "- freerepat  1 6366.3\n",
      "- gender     1 6369.4\n",
      "- health     1 6371.3\n",
      "- illness    1 6464.7\n",
      "- reduced    1 6614.7\n"
     ]
    },
    {
     "name": "stderr",
     "output_type": "stream",
     "text": [
      "\n",
      "Re-fitting to get Hessian\n",
      "\n",
      "\n"
     ]
    },
    {
     "data": {
      "text/plain": [
       "Call:\n",
       "polr(formula = factor(visits) ~ gender + age + illness + reduced + \n",
       "    health + private + freepoor + freerepat + lchronic, data = DoctorVisits)\n",
       "\n",
       "Coefficients:\n",
       "                Value Std. Error t value\n",
       "genderfemale  0.26439    0.07888   3.352\n",
       "age           0.54017    0.23382   2.310\n",
       "illness       0.27975    0.02690  10.400\n",
       "reduced       0.17203    0.01072  16.040\n",
       "health        0.06087    0.01646   3.697\n",
       "privateyes    0.27097    0.09822   2.759\n",
       "freepooryes  -0.67465    0.25831  -2.612\n",
       "freerepatyes  0.38285    0.13348   2.868\n",
       "lchronicyes   0.15623    0.10605   1.473\n",
       "\n",
       "Intercepts:\n",
       "    Value   Std. Error t value\n",
       "0|1  2.7060  0.1095    24.7031\n",
       "1|2  4.4757  0.1279    34.9847\n",
       "2|3  5.6652  0.1561    36.2868\n",
       "3|4  6.0844  0.1726    35.2592\n",
       "4|5  6.5978  0.2000    32.9966\n",
       "5|6  6.8800  0.2191    31.4027\n",
       "6|7  7.4202  0.2660    27.8966\n",
       "7|8  8.5433  0.4269    20.0104\n",
       "8|9 10.3476  1.0079    10.2668\n",
       "\n",
       "Residual Deviance: 6324.068 \n",
       "AIC: 6360.068 "
      ]
     },
     "metadata": {},
     "output_type": "display_data"
    }
   ],
   "source": [
    "library(MASS)\n",
    "pomod <- polr(factor(visits)~ gender+age+income+illness+reduced+health+private+\n",
    "                freepoor+freerepat+nchronic+lchronic, data=DoctorVisits)\n",
    "pomodi <- step(pomod)\n",
    "summary(step(pomod))"
   ]
  },
  {
   "cell_type": "code",
   "execution_count": 19,
   "metadata": {},
   "outputs": [
    {
     "data": {
      "text/plain": [
       "\n",
       "Call:\n",
       "zeroinfl(formula = visits ~ gender + age + illness + reduced + health + \n",
       "    private + freepoor + freerepat + lchronic, data = DoctorVisits)\n",
       "\n",
       "Pearson residuals:\n",
       "    Min      1Q  Median      3Q     Max \n",
       "-1.5714 -0.4467 -0.2877 -0.1892 11.3016 \n",
       "\n",
       "Count model coefficients (poisson with log link):\n",
       "              Estimate Std. Error z value Pr(>|z|)    \n",
       "(Intercept)  -0.726321   0.112225  -6.472 9.67e-11 ***\n",
       "genderfemale  0.009120   0.069455   0.131   0.8955    \n",
       "age           0.064377   0.204335   0.315   0.7527    \n",
       "illness       0.045252   0.024334   1.860   0.0629 .  \n",
       "reduced       0.082511   0.005993  13.767  < 2e-16 ***\n",
       "health        0.023541   0.011245   2.093   0.0363 *  \n",
       "privateyes   -0.039721   0.095653  -0.415   0.6780    \n",
       "freepooryes  -0.325343   0.237836  -1.368   0.1713    \n",
       "freerepatyes -0.187080   0.117604  -1.591   0.1117    \n",
       "lchronicyes   0.021237   0.076951   0.276   0.7826    \n",
       "\n",
       "Zero-inflation model coefficients (binomial with logit link):\n",
       "             Estimate Std. Error z value Pr(>|z|)    \n",
       "(Intercept)   2.53289    0.22371  11.322  < 2e-16 ***\n",
       "genderfemale -0.44795    0.16342  -2.741  0.00612 ** \n",
       "age          -1.34113    0.47482  -2.825  0.00474 ** \n",
       "illness      -0.45757    0.08143  -5.619 1.92e-08 ***\n",
       "reduced      -1.26093    0.24365  -5.175 2.28e-07 ***\n",
       "health       -0.07721    0.03866  -1.997  0.04579 *  \n",
       "privateyes   -0.43980    0.19438  -2.263  0.02366 *  \n",
       "freepooryes   0.31417    0.50670   0.620  0.53524    \n",
       "freerepatyes -1.28922    0.32099  -4.016 5.91e-05 ***\n",
       "lchronicyes  -0.34904    0.28092  -1.242  0.21406    \n",
       "---\n",
       "Signif. codes:  0 '***' 0.001 '**' 0.01 '*' 0.05 '.' 0.1 ' ' 1 \n",
       "\n",
       "Number of iterations in BFGS optimization: 42 \n",
       "Log-likelihood: -3184 on 20 Df"
      ]
     },
     "metadata": {},
     "output_type": "display_data"
    }
   ],
   "source": [
    "mdz = zeroinfl(formula = visits~ gender+ age + illness+ reduced + health + private + freepoor\n",
    "                + freerepat + lchronic, data = DoctorVisits)\n",
    "summary(mdz)"
   ]
  },
  {
   "cell_type": "code",
   "execution_count": 22,
   "metadata": {},
   "outputs": [
    {
     "data": {
      "text/plain": [
       "\n",
       "Call:\n",
       "zeroinfl(formula = visits ~ reduced + health | gender + age + illness + \n",
       "    reduced + health + private + freerepat, data = DoctorVisits)\n",
       "\n",
       "Pearson residuals:\n",
       "    Min      1Q  Median      3Q     Max \n",
       "-1.4627 -0.4484 -0.2877 -0.1877 11.7616 \n",
       "\n",
       "Count model coefficients (poisson with log link):\n",
       "             Estimate Std. Error z value Pr(>|z|)    \n",
       "(Intercept) -0.674720   0.057632 -11.707   <2e-16 ***\n",
       "reduced      0.083780   0.005828  14.375   <2e-16 ***\n",
       "health       0.023852   0.010591   2.252   0.0243 *  \n",
       "\n",
       "Zero-inflation model coefficients (binomial with logit link):\n",
       "             Estimate Std. Error z value Pr(>|z|)    \n",
       "(Intercept)   2.69549    0.18853  14.297  < 2e-16 ***\n",
       "genderfemale -0.43790    0.13540  -3.234 0.001220 ** \n",
       "age          -1.42991    0.40200  -3.557 0.000375 ***\n",
       "illness      -0.56168    0.07270  -7.726 1.11e-14 ***\n",
       "reduced      -1.23450    0.23402  -5.275 1.33e-07 ***\n",
       "health       -0.08755    0.03836  -2.282 0.022476 *  \n",
       "privateyes   -0.49505    0.15503  -3.193 0.001407 ** \n",
       "freerepatyes -1.08644    0.24427  -4.448 8.68e-06 ***\n",
       "---\n",
       "Signif. codes:  0 '***' 0.001 '**' 0.01 '*' 0.05 '.' 0.1 ' ' 1 \n",
       "\n",
       "Number of iterations in BFGS optimization: 37 \n",
       "Log-likelihood: -3191 on 11 Df"
      ]
     },
     "metadata": {},
     "output_type": "display_data"
    }
   ],
   "source": [
    "mdz2 = zeroinfl(formula = visits ~ reduced+health | gender + age + illness + reduced + health + private + freerepat, data = DoctorVisits)\n",
    "summary(mdz2)"
   ]
  },
  {
   "cell_type": "code",
   "execution_count": 23,
   "metadata": {},
   "outputs": [
    {
     "data": {
      "image/png": "[encoded data removed]",
      "text/plain": [
       "plot without title"
      ]
     },
     "metadata": {
      "image/png": {
       "height": 420,
       "width": 420
      }
     },
     "output_type": "display_data"
    }
   ],
   "source": [
    "res.df <- data.frame(resid = residuals(mdz2), fit = fitted(mdz2))\n",
    "ggplot(res.df, aes(x = fit, y = resid)) +\n",
    "    geom_point()"
   ]
  },
  {
   "cell_type": "code",
   "execution_count": 24,
   "metadata": {},
   "outputs": [
    {
     "data": {
      "text/html": [
       "<style>\n",
       ".dl-inline {width: auto; margin:0; padding: 0}\n",
       ".dl-inline>dt, .dl-inline>dd {float: none; width: auto; display: inline-block}\n",
       ".dl-inline>dt::after {content: \":\\0020\"; padding-right: .5ex}\n",
       ".dl-inline>dt:not(:first-of-type) {padding-left: .5ex}\n",
       "</style><dl class=dl-inline><dt>count_(Intercept)</dt><dd>0.509298967703354</dd><dt>count_reduced</dt><dd>1.08739017028243</dd><dt>count_health</dt><dd>1.02413879573275</dd><dt>zero_(Intercept)</dt><dd>14.8128145653553</dd><dt>zero_genderfemale</dt><dd>0.645390792599577</dd><dt>zero_age</dt><dd>0.239330312691598</dd><dt>zero_illness</dt><dd>0.570253038453988</dd><dt>zero_reduced</dt><dd>0.29098015339471</dd><dt>zero_health</dt><dd>0.91617243598354</dd><dt>zero_privateyes</dt><dd>0.609538794311</dd><dt>zero_freerepatyes</dt><dd>0.337416086030626</dd></dl>\n"
      ],
      "text/latex": [
       "\\begin{description*}\n",
       "\\item[count\\textbackslash{}\\_(Intercept)] 0.509298967703354\n",
       "\\item[count\\textbackslash{}\\_reduced] 1.08739017028243\n",
       "\\item[count\\textbackslash{}\\_health] 1.02413879573275\n",
       "\\item[zero\\textbackslash{}\\_(Intercept)] 14.8128145653553\n",
       "\\item[zero\\textbackslash{}\\_genderfemale] 0.645390792599577\n",
       "\\item[zero\\textbackslash{}\\_age] 0.239330312691598\n",
       "\\item[zero\\textbackslash{}\\_illness] 0.570253038453988\n",
       "\\item[zero\\textbackslash{}\\_reduced] 0.29098015339471\n",
       "\\item[zero\\textbackslash{}\\_health] 0.91617243598354\n",
       "\\item[zero\\textbackslash{}\\_privateyes] 0.609538794311\n",
       "\\item[zero\\textbackslash{}\\_freerepatyes] 0.337416086030626\n",
       "\\end{description*}\n"
      ],
      "text/markdown": [
       "count_(Intercept)\n",
       ":   0.509298967703354count_reduced\n",
       ":   1.08739017028243count_health\n",
       ":   1.02413879573275zero_(Intercept)\n",
       ":   14.8128145653553zero_genderfemale\n",
       ":   0.645390792599577zero_age\n",
       ":   0.239330312691598zero_illness\n",
       ":   0.570253038453988zero_reduced\n",
       ":   0.29098015339471zero_health\n",
       ":   0.91617243598354zero_privateyes\n",
       ":   0.609538794311zero_freerepatyes\n",
       ":   0.337416086030626\n",
       "\n"
      ],
      "text/plain": [
       "count_(Intercept)     count_reduced      count_health  zero_(Intercept) \n",
       "        0.5092990         1.0873902         1.0241388        14.8128146 \n",
       "zero_genderfemale          zero_age      zero_illness      zero_reduced \n",
       "        0.6453908         0.2393303         0.5702530         0.2909802 \n",
       "      zero_health   zero_privateyes zero_freerepatyes \n",
       "        0.9161724         0.6095388         0.3374161 "
      ]
     },
     "metadata": {},
     "output_type": "display_data"
    }
   ],
   "source": [
    "exp(coef(mdz2))"
   ]
  },
  {
   "cell_type": "code",
   "execution_count": 203,
   "metadata": {},
   "outputs": [
    {
     "name": "stdout",
     "output_type": "stream",
     "text": [
      "Vuong Non-Nested Hypothesis Test-Statistic: \n",
      "(test-statistic is asymptotically distributed N(0,1) under the\n",
      " null that the models are indistinguishible)\n",
      "-------------------------------------------------------------\n",
      "              Vuong z-statistic             H_A    p-value\n",
      "Raw                    1.413338 model1 > model2   0.078778\n",
      "AIC-corrected         -0.302643 model2 > model1   0.381081\n",
      "BIC-corrected         -5.926333 model2 > model1 1.5489e-09\n"
     ]
    }
   ],
   "source": [
    "vuong(mdz,mdz2)"
   ]
  }
 ],
 "metadata": {
  "kernelspec": {
   "display_name": "R",
   "language": "R",
   "name": "ir"
  },
  "language_info": {
   "codemirror_mode": "r",
   "file_extension": ".r",
   "mimetype": "text/x-r-source",
   "name": "R",
   "pygments_lexer": "r",
   "version": "4.1.2"
  }
 },
 "nbformat": 4,
 "nbformat_minor": 4
}
